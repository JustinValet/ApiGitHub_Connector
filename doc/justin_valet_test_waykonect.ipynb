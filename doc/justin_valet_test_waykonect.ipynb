{
 "cells": [
  {
   "cell_type": "markdown",
   "id": "protecting-explorer",
   "metadata": {},
   "source": [
    "### Analyse de la pertinence d'un verdissement d'une flotte de véhicules automobiles à partir de données télématiques \n",
    "\n",
    "* Auteur: Justin Valet \n",
    "* Date: 13/08/2021\n",
    "* Jeu de données: https://www.kaggle.com/yunlevin/levin-vehicle-telematics"
   ]
  },
  {
   "cell_type": "markdown",
   "id": "developing-singing",
   "metadata": {},
   "source": [
    "#### 1) Packages python & gestion des données \n",
    "\n",
    "Le fichier utilisé est le suivant : allcars.csv"
   ]
  },
  {
   "cell_type": "markdown",
   "id": "independent-charleston",
   "metadata": {},
   "source": [
    "##### 1.2 Inputs utilisateurs\n",
    "\n",
    "* import pandas as pd : pour la manipulation de données tabulaires\n",
    "* import seaborn as sns  : pour la visualisation des données\n",
    "* import numpy as np : package de manipulation de données à hautes performances "
   ]
  },
  {
   "cell_type": "code",
   "execution_count": 54,
   "id": "disabled-instrument",
   "metadata": {},
   "outputs": [],
   "source": [
    "import pandas as pd\n",
    "import seaborn as sns\n",
    "import numpy as np"
   ]
  },
  {
   "cell_type": "markdown",
   "id": "conditional-hierarchy",
   "metadata": {},
   "source": [
    "##### 1.2 Inputs utilisateurs\n",
    "\n",
    "* folder_file --> chemin vers le fichier allcars.csv"
   ]
  },
  {
   "cell_type": "code",
   "execution_count": 77,
   "id": "handed-listing",
   "metadata": {},
   "outputs": [],
   "source": [
    "# reseignez le chemin vers le fichier\n",
    "folder_file = \"\""
   ]
  },
  {
   "cell_type": "markdown",
   "id": "certified-retirement",
   "metadata": {},
   "source": [
    "#### 2) Import, qualification, transformation et mise en qualité des données"
   ]
  },
  {
   "cell_type": "markdown",
   "id": "narrative-interval",
   "metadata": {},
   "source": [
    "##### 2.1 Inputs utilisateurs\n",
    "\n",
    "Pour cette analyse, ne seront retenues que les variables suivantes: \n",
    "\n",
    "* timeStamp: variable temporelle\n",
    "* tripID: un trajet (entre le moment où le véhicule a le moteur en marche et lorsque celui-ci est éteint)\n",
    "* gps_speed: la vitesse collectée par le GPS pour chaque records (pour chaque seconde) - plus précise que celle du moteur\n",
    "* deviceID: l'indentifiant du boitier et par conséquent du véhicule\n",
    "\n",
    "Les autres variables n'ont pas été conservées car jugés trop techniques pour cette analyse. "
   ]
  },
  {
   "cell_type": "code",
   "execution_count": 59,
   "id": "white-turner",
   "metadata": {},
   "outputs": [],
   "source": [
    "# liste des colonnes sélectionnés dans l'import du fichier au sein d'un pandas dataframe\n",
    "col_to_use = [\"timeStamp\", \"tripID\", \"gps_speed\",\"deviceID\"\n",
    "             ]\n",
    "data = pd.read_csv(folder_file+\"allcars.csv\", usecols=col_to_use)"
   ]
  },
  {
   "cell_type": "code",
   "execution_count": 60,
   "id": "hundred-kidney",
   "metadata": {},
   "outputs": [
    {
     "name": "stdout",
     "output_type": "stream",
     "text": [
      "ce jeu de données est composé de 7214695 points collectés\n",
      "ce jeu de données est composé de 29 véhicules\n"
     ]
    }
   ],
   "source": [
    "print(\"ce jeu de données est composé de {} points collectés\".format(data.shape[0]))\n",
    "print(\"ce jeu de données est composé de {} véhicules\".format(len(data[\"deviceID\"].unique())))"
   ]
  },
  {
   "cell_type": "markdown",
   "id": "overall-nepal",
   "metadata": {},
   "source": [
    "##### 2.2 Transformations des données \n",
    "\n",
    "L'idée içi est de: \n",
    "\n",
    "* Créer une date unique pour chaque jour / deviceID à partir du timestamp  \n",
    "* Convertir la vitesse GPS en KMh (Mph*1.6....)\n",
    "* Calculer la distance parcouru par véhicule / s (pour un point) d = 1 * gps_speed(in KM/s)"
   ]
  },
  {
   "cell_type": "code",
   "execution_count": 61,
   "id": "swedish-worst",
   "metadata": {},
   "outputs": [],
   "source": [
    "# Convertir le timestamp en datetime format\n",
    "data[\"timeStamp\"] = pd.to_datetime(data[\"timeStamp\"])\n",
    "\n",
    "# extraire le date du jour pour un record\n",
    "data[\"trip_date\"] = data[\"timeStamp\"].dt.date\n",
    "\n",
    "# Convertir en KM/h\n",
    "data[\"gps_speed\"] = round(data[\"gps_speed\"]*1.609344,0)\n",
    "\n",
    "# Caluler la distance parcouru / s (pour un point)\n",
    "data[\"distance\"] = data[\"gps_speed\"] / 3600"
   ]
  },
  {
   "cell_type": "markdown",
   "id": "christian-storm",
   "metadata": {},
   "source": [
    "##### 2.3 Mise en qualité\n",
    "\n",
    "* identification des valeurs nulles & suppression des valeurs nulles (de vitesse)\n",
    "* identification des valeurs extrêmes"
   ]
  },
  {
   "cell_type": "code",
   "execution_count": 62,
   "id": "imported-cycling",
   "metadata": {},
   "outputs": [
    {
     "data": {
      "text/plain": [
       "timeStamp    100.00000\n",
       "tripID       100.00000\n",
       "gps_speed     70.72439\n",
       "deviceID     100.00000\n",
       "trip_date    100.00000\n",
       "distance      70.72439\n",
       "dtype: float64"
      ]
     },
     "execution_count": 62,
     "metadata": {},
     "output_type": "execute_result"
    }
   ],
   "source": [
    "# Calcul du taux de complétude par variable \n",
    "100 - (data.isnull().sum() / data.shape[0])*100"
   ]
  },
  {
   "cell_type": "code",
   "execution_count": 63,
   "id": "completed-litigation",
   "metadata": {},
   "outputs": [],
   "source": [
    "# supression des valeurs nulles (comportement anormal du véhicule, à l'arrêt devrait être égal à zero)\n",
    "data = data[~data[\"gps_speed\"].isnull()].reset_index(drop=True)"
   ]
  },
  {
   "cell_type": "code",
   "execution_count": 64,
   "id": "cosmetic-sailing",
   "metadata": {},
   "outputs": [
    {
     "data": {
      "text/plain": [
       "<AxesSubplot:xlabel='gps_speed'>"
      ]
     },
     "execution_count": 64,
     "metadata": {},
     "output_type": "execute_result"
    },
    {
     "data": {
      "image/png": "[encoded data removed]",
      "text/plain": [
       "<Figure size 432x288 with 1 Axes>"
      ]
     },
     "metadata": {
      "needs_background": "light"
     },
     "output_type": "display_data"
    }
   ],
   "source": [
    "# boîte à moustache pour identifier les valeurs extrêmes\n",
    "# On va considérer ici qu'une vitesse au-delà de 170 km/h est anormale (Perte de permis en france sur l'autoroute) \n",
    "sns.boxplot(x=data[\"gps_speed\"])"
   ]
  },
  {
   "cell_type": "code",
   "execution_count": 65,
   "id": "swiss-content",
   "metadata": {},
   "outputs": [],
   "source": [
    "# supprimer les valeurs extrêmes pour la vitesse\n",
    "data = data[data[\"gps_speed\"] < 170].reset_index(drop=True)"
   ]
  },
  {
   "cell_type": "code",
   "execution_count": 66,
   "id": "controlling-bloom",
   "metadata": {},
   "outputs": [],
   "source": [
    "# identification des enrigistrements où le véhicule était à l'arrêt\n",
    "data[\"is_null_gps_speed\"] = (data[\"gps_speed\"] == 0).astype(int)"
   ]
  },
  {
   "cell_type": "markdown",
   "id": "adjacent-nigeria",
   "metadata": {},
   "source": [
    "#### 3) Création des vues aggrégées au niveau du TripID, de la journée et enfin au niveau du véhicule"
   ]
  },
  {
   "cell_type": "markdown",
   "id": "expanded-bahrain",
   "metadata": {},
   "source": [
    "##### 3.1 Vue par trajet\n",
    "\n",
    "Pour cette vue, les données seront aggrégées aux niveaux: \n",
    "\n",
    "* Des trajets\n",
    "* De la journée \n",
    "* Du véhicule \n",
    "\n",
    "L'idée est d'analyser / véhicule / jour / trajet:\n",
    "* la vitesse moyenne / médiane / max\n",
    "* distance parcourue par un trajet \n",
    "* durée du trajet"
   ]
  },
  {
   "cell_type": "code",
   "execution_count": 67,
   "id": "meaning-clearance",
   "metadata": {},
   "outputs": [
    {
     "data": {
      "text/html": [
       "<div>\n",
       "<style scoped>\n",
       "    .dataframe tbody tr th:only-of-type {\n",
       "        vertical-align: middle;\n",
       "    }\n",
       "\n",
       "    .dataframe tbody tr th {\n",
       "        vertical-align: top;\n",
       "    }\n",
       "\n",
       "    .dataframe thead th {\n",
       "        text-align: right;\n",
       "    }\n",
       "</style>\n",
       "<table border=\"1\" class=\"dataframe\">\n",
       "  <thead>\n",
       "    <tr style=\"text-align: right;\">\n",
       "      <th></th>\n",
       "      <th>deviceID</th>\n",
       "      <th>tripID</th>\n",
       "      <th>trip_date</th>\n",
       "      <th>min_timestamp</th>\n",
       "      <th>max_timestamp</th>\n",
       "      <th>speed_max</th>\n",
       "      <th>speed_mean</th>\n",
       "      <th>speed_median</th>\n",
       "      <th>distance</th>\n",
       "      <th>num_seconds_null_speed</th>\n",
       "      <th>trip_time</th>\n",
       "      <th>perc_null_points</th>\n",
       "      <th>val</th>\n",
       "    </tr>\n",
       "  </thead>\n",
       "  <tbody>\n",
       "    <tr>\n",
       "      <th>0</th>\n",
       "      <td>1</td>\n",
       "      <td>0</td>\n",
       "      <td>2017-10-31</td>\n",
       "      <td>2017-10-31 18:45:59</td>\n",
       "      <td>2017-10-31 18:51:10</td>\n",
       "      <td>13.0</td>\n",
       "      <td>0.548077</td>\n",
       "      <td>0.0</td>\n",
       "      <td>0.047500</td>\n",
       "      <td>288</td>\n",
       "      <td>5</td>\n",
       "      <td>0.960000</td>\n",
       "      <td>1</td>\n",
       "    </tr>\n",
       "    <tr>\n",
       "      <th>1</th>\n",
       "      <td>1</td>\n",
       "      <td>0</td>\n",
       "      <td>2017-11-09</td>\n",
       "      <td>2017-11-09 21:01:15</td>\n",
       "      <td>2017-11-09 21:19:07</td>\n",
       "      <td>77.0</td>\n",
       "      <td>47.247432</td>\n",
       "      <td>55.0</td>\n",
       "      <td>14.056111</td>\n",
       "      <td>99</td>\n",
       "      <td>18</td>\n",
       "      <td>0.091667</td>\n",
       "      <td>1</td>\n",
       "    </tr>\n",
       "    <tr>\n",
       "      <th>2</th>\n",
       "      <td>1</td>\n",
       "      <td>1</td>\n",
       "      <td>2017-10-13</td>\n",
       "      <td>2017-10-13 13:09:36</td>\n",
       "      <td>2017-10-13 13:09:36</td>\n",
       "      <td>0.0</td>\n",
       "      <td>0.000000</td>\n",
       "      <td>0.0</td>\n",
       "      <td>0.000000</td>\n",
       "      <td>1</td>\n",
       "      <td>0</td>\n",
       "      <td>0.000000</td>\n",
       "      <td>1</td>\n",
       "    </tr>\n",
       "    <tr>\n",
       "      <th>3</th>\n",
       "      <td>1</td>\n",
       "      <td>2</td>\n",
       "      <td>2017-10-13</td>\n",
       "      <td>2017-10-13 13:09:51</td>\n",
       "      <td>2017-10-13 13:09:57</td>\n",
       "      <td>0.0</td>\n",
       "      <td>0.000000</td>\n",
       "      <td>0.0</td>\n",
       "      <td>0.000000</td>\n",
       "      <td>3</td>\n",
       "      <td>0</td>\n",
       "      <td>0.000000</td>\n",
       "      <td>1</td>\n",
       "    </tr>\n",
       "    <tr>\n",
       "      <th>4</th>\n",
       "      <td>1</td>\n",
       "      <td>3</td>\n",
       "      <td>2017-10-13</td>\n",
       "      <td>2017-10-13 15:42:34</td>\n",
       "      <td>2017-10-13 15:43:16</td>\n",
       "      <td>0.0</td>\n",
       "      <td>0.000000</td>\n",
       "      <td>0.0</td>\n",
       "      <td>0.000000</td>\n",
       "      <td>43</td>\n",
       "      <td>1</td>\n",
       "      <td>0.716667</td>\n",
       "      <td>1</td>\n",
       "    </tr>\n",
       "  </tbody>\n",
       "</table>\n",
       "</div>"
      ],
      "text/plain": [
       "   deviceID  tripID   trip_date       min_timestamp       max_timestamp  \\\n",
       "0         1       0  2017-10-31 2017-10-31 18:45:59 2017-10-31 18:51:10   \n",
       "1         1       0  2017-11-09 2017-11-09 21:01:15 2017-11-09 21:19:07   \n",
       "2         1       1  2017-10-13 2017-10-13 13:09:36 2017-10-13 13:09:36   \n",
       "3         1       2  2017-10-13 2017-10-13 13:09:51 2017-10-13 13:09:57   \n",
       "4         1       3  2017-10-13 2017-10-13 15:42:34 2017-10-13 15:43:16   \n",
       "\n",
       "   speed_max  speed_mean  speed_median   distance  num_seconds_null_speed  \\\n",
       "0       13.0    0.548077           0.0   0.047500                     288   \n",
       "1       77.0   47.247432          55.0  14.056111                      99   \n",
       "2        0.0    0.000000           0.0   0.000000                       1   \n",
       "3        0.0    0.000000           0.0   0.000000                       3   \n",
       "4        0.0    0.000000           0.0   0.000000                      43   \n",
       "\n",
       "   trip_time  perc_null_points  val  \n",
       "0          5          0.960000    1  \n",
       "1         18          0.091667    1  \n",
       "2          0          0.000000    1  \n",
       "3          0          0.000000    1  \n",
       "4          1          0.716667    1  "
      ]
     },
     "execution_count": 67,
     "metadata": {},
     "output_type": "execute_result"
    }
   ],
   "source": [
    "# Vue trajet\n",
    "trip_agg = data.groupby([\"deviceID\", \"tripID\", \"trip_date\"]).agg(\n",
    "                                                                {'timeStamp': ['min', 'max'], \n",
    "                                                                 'gps_speed': ['max', 'mean', 'median'], \n",
    "                                                                 'distance': ['sum'],\n",
    "                                                                 'is_null_gps_speed': ['sum']\n",
    "                                                                }\n",
    "                                                                 ).reset_index()\n",
    "\n",
    "trip_agg.columns = [\"deviceID\", \"tripID\", \"trip_date\", \n",
    "                    \"min_timestamp\", \"max_timestamp\", \"speed_max\",\n",
    "                    \"speed_mean\", \"speed_median\", \"distance\", \n",
    "                    \"num_seconds_null_speed\"]\n",
    "\n",
    "# calculer la durée du trajet en minutes \n",
    "trip_agg[\"trip_time\"] = round((trip_agg[\"max_timestamp\"] - trip_agg[\"min_timestamp\"]).dt.total_seconds() / 60,0).astype(int)\n",
    "\n",
    "# calculer le %  de secondes passée arrêtées / trajets\n",
    "trip_agg[\"perc_null_points\"] = (trip_agg[\"num_seconds_null_speed\"]) / (trip_agg[\"trip_time\"]*60)\n",
    "trip_agg.loc[trip_agg[\"trip_time\"]==0, \"perc_null_points\"] = 0 \n",
    "\n",
    "\n",
    "trip_agg['val'] = 1\n",
    "\n",
    "trip_agg.head()"
   ]
  },
  {
   "cell_type": "markdown",
   "id": "sexual-robin",
   "metadata": {},
   "source": [
    "##### 3.2 Vue par jour\n",
    "\n",
    "Pour cette vue, les données seront aggrégées aux niveaux: \n",
    "\n",
    "* De la journée \n",
    "* Du véhicule \n",
    "\n",
    "L'idée est d'analyser / véhicule / jour / trajet:\n",
    "* distance parcourue / jour\n",
    "* le % moyen d'arrêt / s\n",
    "* le nombre de trajets / jour"
   ]
  },
  {
   "cell_type": "code",
   "execution_count": 68,
   "id": "trying-learning",
   "metadata": {},
   "outputs": [],
   "source": [
    "day_agg = trip_agg.groupby([\"deviceID\", \"trip_date\"]).agg({ \n",
    "                                                 \"distance\":['sum'], \n",
    "                                                 \"val\": [\"sum\"], \n",
    "                                                 \"perc_null_points\":['mean'],\n",
    "                                                           }).reset_index()\n",
    "\n",
    "day_agg.columns = [\"deviceID\", \"trip_date\", \"distance_sum\", \"num_trip_by_day\", 'perc_null_points']\n",
    "day_agg[\"distance_sum\"] = round(day_agg[\"distance_sum\"], 0)\n",
    "\n",
    "# calculer le nombre de kilomètres moyen parcouru / trajet\n",
    "day_agg[\"kmh_trip\"] = np.divide(day_agg[\"distance_sum\"], day_agg[\"num_trip_by_day\"])\n",
    "day_agg.loc[day_agg[\"distance_sum\"]==0, \"kmh_trip\"] = 0 "
   ]
  },
  {
   "cell_type": "markdown",
   "id": "artistic-delay",
   "metadata": {},
   "source": [
    "##### 3.3 Vue par véhicule\n",
    "\n",
    "Pour cette vue, les données seront aggrégées au niveau du véhicule. \n",
    "\n",
    "L'idée est d'analyser / véhicule:\n",
    "    \n",
    "* la distance totale parcourue\n",
    "* la distance moyenne / jour \n",
    "* le nombre de trajets / jour"
   ]
  },
  {
   "cell_type": "code",
   "execution_count": 70,
   "id": "approved-miller",
   "metadata": {},
   "outputs": [
    {
     "name": "stderr",
     "output_type": "stream",
     "text": [
      "/Users/justinvalet/.virtualenvs/logistic-regression/lib/python3.7/site-packages/ipykernel_launcher.py:2: FutureWarning: Indexing with multiple keys (implicitly converted to a tuple of keys) will be deprecated, use a list instead.\n",
      "  \n"
     ]
    }
   ],
   "source": [
    "# calcul de la vue au véhicule\n",
    "device_agg = day_agg.groupby([\"deviceID\"])[\"distance_sum\", \"num_trip_by_day\", \"kmh_trip\", \"perc_null_points\"].mean().reset_index()"
   ]
  },
  {
   "cell_type": "code",
   "execution_count": 71,
   "id": "employed-bangladesh",
   "metadata": {},
   "outputs": [
    {
     "data": {
      "text/html": [
       "<div>\n",
       "<style scoped>\n",
       "    .dataframe tbody tr th:only-of-type {\n",
       "        vertical-align: middle;\n",
       "    }\n",
       "\n",
       "    .dataframe tbody tr th {\n",
       "        vertical-align: top;\n",
       "    }\n",
       "\n",
       "    .dataframe thead th {\n",
       "        text-align: right;\n",
       "    }\n",
       "</style>\n",
       "<table border=\"1\" class=\"dataframe\">\n",
       "  <thead>\n",
       "    <tr style=\"text-align: right;\">\n",
       "      <th></th>\n",
       "      <th>deviceID</th>\n",
       "      <th>distance_sum</th>\n",
       "      <th>num_trip_by_day</th>\n",
       "      <th>kmh_trip</th>\n",
       "      <th>perc_null_points</th>\n",
       "      <th>num_days</th>\n",
       "      <th>num_trip_total</th>\n",
       "      <th>distance_totale</th>\n",
       "      <th>max_trip</th>\n",
       "    </tr>\n",
       "  </thead>\n",
       "  <tbody>\n",
       "    <tr>\n",
       "      <th>count</th>\n",
       "      <td>21.000000</td>\n",
       "      <td>21.000000</td>\n",
       "      <td>21.000000</td>\n",
       "      <td>21.000000</td>\n",
       "      <td>21.000000</td>\n",
       "      <td>21.000000</td>\n",
       "      <td>21.000000</td>\n",
       "      <td>21.000000</td>\n",
       "      <td>21.000000</td>\n",
       "    </tr>\n",
       "    <tr>\n",
       "      <th>mean</th>\n",
       "      <td>27.666667</td>\n",
       "      <td>32.380952</td>\n",
       "      <td>10.571429</td>\n",
       "      <td>3.404762</td>\n",
       "      <td>0.471429</td>\n",
       "      <td>20.047619</td>\n",
       "      <td>231.571429</td>\n",
       "      <td>877.333333</td>\n",
       "      <td>40.530807</td>\n",
       "    </tr>\n",
       "    <tr>\n",
       "      <th>std</th>\n",
       "      <td>17.939714</td>\n",
       "      <td>28.228489</td>\n",
       "      <td>14.572479</td>\n",
       "      <td>3.290513</td>\n",
       "      <td>0.257183</td>\n",
       "      <td>22.582020</td>\n",
       "      <td>313.095604</td>\n",
       "      <td>1148.965332</td>\n",
       "      <td>35.062907</td>\n",
       "    </tr>\n",
       "    <tr>\n",
       "      <th>min</th>\n",
       "      <td>1.000000</td>\n",
       "      <td>0.000000</td>\n",
       "      <td>1.000000</td>\n",
       "      <td>0.000000</td>\n",
       "      <td>0.100000</td>\n",
       "      <td>1.000000</td>\n",
       "      <td>2.000000</td>\n",
       "      <td>0.000000</td>\n",
       "      <td>0.000000</td>\n",
       "    </tr>\n",
       "    <tr>\n",
       "      <th>25%</th>\n",
       "      <td>12.000000</td>\n",
       "      <td>6.000000</td>\n",
       "      <td>5.000000</td>\n",
       "      <td>0.100000</td>\n",
       "      <td>0.300000</td>\n",
       "      <td>4.000000</td>\n",
       "      <td>24.000000</td>\n",
       "      <td>51.000000</td>\n",
       "      <td>13.730000</td>\n",
       "    </tr>\n",
       "    <tr>\n",
       "      <th>50%</th>\n",
       "      <td>24.000000</td>\n",
       "      <td>27.000000</td>\n",
       "      <td>8.000000</td>\n",
       "      <td>3.600000</td>\n",
       "      <td>0.400000</td>\n",
       "      <td>14.000000</td>\n",
       "      <td>109.000000</td>\n",
       "      <td>468.000000</td>\n",
       "      <td>31.746389</td>\n",
       "    </tr>\n",
       "    <tr>\n",
       "      <th>75%</th>\n",
       "      <td>45.000000</td>\n",
       "      <td>52.000000</td>\n",
       "      <td>11.000000</td>\n",
       "      <td>4.500000</td>\n",
       "      <td>0.500000</td>\n",
       "      <td>23.000000</td>\n",
       "      <td>211.000000</td>\n",
       "      <td>1343.000000</td>\n",
       "      <td>65.521111</td>\n",
       "    </tr>\n",
       "    <tr>\n",
       "      <th>max</th>\n",
       "      <td>53.000000</td>\n",
       "      <td>107.000000</td>\n",
       "      <td>72.000000</td>\n",
       "      <td>14.700000</td>\n",
       "      <td>1.000000</td>\n",
       "      <td>80.000000</td>\n",
       "      <td>1048.000000</td>\n",
       "      <td>3884.000000</td>\n",
       "      <td>114.088056</td>\n",
       "    </tr>\n",
       "  </tbody>\n",
       "</table>\n",
       "</div>"
      ],
      "text/plain": [
       "        deviceID  distance_sum  num_trip_by_day   kmh_trip  perc_null_points  \\\n",
       "count  21.000000     21.000000        21.000000  21.000000         21.000000   \n",
       "mean   27.666667     32.380952        10.571429   3.404762          0.471429   \n",
       "std    17.939714     28.228489        14.572479   3.290513          0.257183   \n",
       "min     1.000000      0.000000         1.000000   0.000000          0.100000   \n",
       "25%    12.000000      6.000000         5.000000   0.100000          0.300000   \n",
       "50%    24.000000     27.000000         8.000000   3.600000          0.400000   \n",
       "75%    45.000000     52.000000        11.000000   4.500000          0.500000   \n",
       "max    53.000000    107.000000        72.000000  14.700000          1.000000   \n",
       "\n",
       "        num_days  num_trip_total  distance_totale    max_trip  \n",
       "count  21.000000       21.000000        21.000000   21.000000  \n",
       "mean   20.047619      231.571429       877.333333   40.530807  \n",
       "std    22.582020      313.095604      1148.965332   35.062907  \n",
       "min     1.000000        2.000000         0.000000    0.000000  \n",
       "25%     4.000000       24.000000        51.000000   13.730000  \n",
       "50%    14.000000      109.000000       468.000000   31.746389  \n",
       "75%    23.000000      211.000000      1343.000000   65.521111  \n",
       "max    80.000000     1048.000000      3884.000000  114.088056  "
      ]
     },
     "execution_count": 71,
     "metadata": {},
     "output_type": "execute_result"
    }
   ],
   "source": [
    "# Calcul du nombre de jours où le véhicule a été utilisé \n",
    "\n",
    "device_agg = pd.merge(device_agg, day_agg.groupby(\"deviceID\").size().reset_index().rename(columns={0:\"num_days\"}), on=\"deviceID\", how=\"left\")\n",
    "\n",
    "# Calcul du nombre total de trajets pour chaque véhicule\n",
    "device_agg = pd.merge(device_agg, trip_agg.groupby(\"deviceID\").size().reset_index().rename(columns={0:\"num_trip_total\"}), on=\"deviceID\", how=\"left\")\n",
    "\n",
    "# Arondis des variables pour une meilleure visibilité dans l'analyse\n",
    "device_agg[\"distance_sum\"] = round(device_agg[\"distance_sum\"], 0).astype(int)\n",
    "device_agg[\"num_trip_by_day\"] = round(device_agg[\"num_trip_by_day\"], 0).astype(int)\n",
    "device_agg[\"kmh_trip\"] = round(device_agg[\"kmh_trip\"], 1)\n",
    "device_agg[\"perc_null_points\"] = round(device_agg[\"perc_null_points\"], 1)\n",
    "\n",
    "# Calcul de la distance totale parcourue par chaque véhicule\n",
    "\n",
    "tmp = day_agg.groupby(\"deviceID\").agg({\"distance_sum\":[\"sum\"]}).reset_index()\n",
    "tmp.columns = [\"deviceID\",\"distance_totale\"]\n",
    "device_agg = pd.merge(device_agg, tmp, on=\"deviceID\", how=\"left\")\n",
    "\n",
    "# Calcul du trajet le plus long effectué\n",
    "\n",
    "tmp = trip_agg.groupby(\"deviceID\")[\"distance\"].max().reset_index().rename(columns={'distance':'max_trip'})\n",
    "device_agg = pd.merge(device_agg, tmp, on=\"deviceID\", how=\"left\")\n",
    "\n",
    "device_agg.describe()"
   ]
  },
  {
   "cell_type": "code",
   "execution_count": 72,
   "id": "innovative-needle",
   "metadata": {},
   "outputs": [
    {
     "data": {
      "text/html": [
       "<div>\n",
       "<style scoped>\n",
       "    .dataframe tbody tr th:only-of-type {\n",
       "        vertical-align: middle;\n",
       "    }\n",
       "\n",
       "    .dataframe tbody tr th {\n",
       "        vertical-align: top;\n",
       "    }\n",
       "\n",
       "    .dataframe thead th {\n",
       "        text-align: right;\n",
       "    }\n",
       "</style>\n",
       "<table border=\"1\" class=\"dataframe\">\n",
       "  <thead>\n",
       "    <tr style=\"text-align: right;\">\n",
       "      <th></th>\n",
       "      <th>deviceID</th>\n",
       "      <th>distance_sum</th>\n",
       "      <th>num_trip_by_day</th>\n",
       "      <th>kmh_trip</th>\n",
       "      <th>perc_null_points</th>\n",
       "      <th>num_days</th>\n",
       "      <th>num_trip_total</th>\n",
       "      <th>distance_totale</th>\n",
       "      <th>max_trip</th>\n",
       "    </tr>\n",
       "  </thead>\n",
       "  <tbody>\n",
       "    <tr>\n",
       "      <th>count</th>\n",
       "      <td>17.000000</td>\n",
       "      <td>17.000000</td>\n",
       "      <td>17.000000</td>\n",
       "      <td>17.000000</td>\n",
       "      <td>17.000000</td>\n",
       "      <td>17.000000</td>\n",
       "      <td>17.000000</td>\n",
       "      <td>17.000000</td>\n",
       "      <td>17.000000</td>\n",
       "    </tr>\n",
       "    <tr>\n",
       "      <th>mean</th>\n",
       "      <td>28.529412</td>\n",
       "      <td>40.000000</td>\n",
       "      <td>12.470588</td>\n",
       "      <td>4.205882</td>\n",
       "      <td>0.400000</td>\n",
       "      <td>24.352941</td>\n",
       "      <td>285.176471</td>\n",
       "      <td>1083.764706</td>\n",
       "      <td>50.067304</td>\n",
       "    </tr>\n",
       "    <tr>\n",
       "      <th>std</th>\n",
       "      <td>18.320472</td>\n",
       "      <td>25.927784</td>\n",
       "      <td>15.652946</td>\n",
       "      <td>3.155050</td>\n",
       "      <td>0.127475</td>\n",
       "      <td>23.105576</td>\n",
       "      <td>326.353764</td>\n",
       "      <td>1188.463689</td>\n",
       "      <td>32.085168</td>\n",
       "    </tr>\n",
       "    <tr>\n",
       "      <th>min</th>\n",
       "      <td>1.000000</td>\n",
       "      <td>0.000000</td>\n",
       "      <td>3.000000</td>\n",
       "      <td>0.100000</td>\n",
       "      <td>0.200000</td>\n",
       "      <td>3.000000</td>\n",
       "      <td>8.000000</td>\n",
       "      <td>1.000000</td>\n",
       "      <td>0.351111</td>\n",
       "    </tr>\n",
       "    <tr>\n",
       "      <th>25%</th>\n",
       "      <td>12.000000</td>\n",
       "      <td>24.000000</td>\n",
       "      <td>7.000000</td>\n",
       "      <td>3.200000</td>\n",
       "      <td>0.300000</td>\n",
       "      <td>9.000000</td>\n",
       "      <td>89.000000</td>\n",
       "      <td>248.000000</td>\n",
       "      <td>22.236667</td>\n",
       "    </tr>\n",
       "    <tr>\n",
       "      <th>50%</th>\n",
       "      <td>35.000000</td>\n",
       "      <td>31.000000</td>\n",
       "      <td>9.000000</td>\n",
       "      <td>3.700000</td>\n",
       "      <td>0.400000</td>\n",
       "      <td>16.000000</td>\n",
       "      <td>141.000000</td>\n",
       "      <td>537.000000</td>\n",
       "      <td>56.773611</td>\n",
       "    </tr>\n",
       "    <tr>\n",
       "      <th>75%</th>\n",
       "      <td>45.000000</td>\n",
       "      <td>54.000000</td>\n",
       "      <td>11.000000</td>\n",
       "      <td>4.700000</td>\n",
       "      <td>0.500000</td>\n",
       "      <td>28.000000</td>\n",
       "      <td>402.000000</td>\n",
       "      <td>1387.000000</td>\n",
       "      <td>68.655278</td>\n",
       "    </tr>\n",
       "    <tr>\n",
       "      <th>max</th>\n",
       "      <td>53.000000</td>\n",
       "      <td>107.000000</td>\n",
       "      <td>72.000000</td>\n",
       "      <td>14.700000</td>\n",
       "      <td>0.700000</td>\n",
       "      <td>80.000000</td>\n",
       "      <td>1048.000000</td>\n",
       "      <td>3884.000000</td>\n",
       "      <td>114.088056</td>\n",
       "    </tr>\n",
       "  </tbody>\n",
       "</table>\n",
       "</div>"
      ],
      "text/plain": [
       "        deviceID  distance_sum  num_trip_by_day   kmh_trip  perc_null_points  \\\n",
       "count  17.000000     17.000000        17.000000  17.000000         17.000000   \n",
       "mean   28.529412     40.000000        12.470588   4.205882          0.400000   \n",
       "std    18.320472     25.927784        15.652946   3.155050          0.127475   \n",
       "min     1.000000      0.000000         3.000000   0.100000          0.200000   \n",
       "25%    12.000000     24.000000         7.000000   3.200000          0.300000   \n",
       "50%    35.000000     31.000000         9.000000   3.700000          0.400000   \n",
       "75%    45.000000     54.000000        11.000000   4.700000          0.500000   \n",
       "max    53.000000    107.000000        72.000000  14.700000          0.700000   \n",
       "\n",
       "        num_days  num_trip_total  distance_totale    max_trip  \n",
       "count  17.000000       17.000000        17.000000   17.000000  \n",
       "mean   24.352941      285.176471      1083.764706   50.067304  \n",
       "std    23.105576      326.353764      1188.463689   32.085168  \n",
       "min     3.000000        8.000000         1.000000    0.351111  \n",
       "25%     9.000000       89.000000       248.000000   22.236667  \n",
       "50%    16.000000      141.000000       537.000000   56.773611  \n",
       "75%    28.000000      402.000000      1387.000000   68.655278  \n",
       "max    80.000000     1048.000000      3884.000000  114.088056  "
      ]
     },
     "execution_count": 72,
     "metadata": {},
     "output_type": "execute_result"
    }
   ],
   "source": [
    "# il est nécéssaire pour l'analyse de supprimer les véhicules qui n'ont parcouru aucun kilomètre\n",
    "device_agg = device_agg[device_agg[\"distance_totale\"] > 0].reset_index(drop=True)\n",
    "device_agg.describe()"
   ]
  },
  {
   "cell_type": "code",
   "execution_count": 73,
   "id": "concerned-registration",
   "metadata": {},
   "outputs": [
    {
     "name": "stdout",
     "output_type": "stream",
     "text": [
      "ce jeu de données est composé de 17 véhicules\n"
     ]
    }
   ],
   "source": [
    "print(\"ce jeu de données est composé de {} véhicules\".format(len(device_agg[\"deviceID\"].unique())))"
   ]
  },
  {
   "cell_type": "markdown",
   "id": "intermediate-brown",
   "metadata": {},
   "source": [
    "#### 4) Analyse des données aggrégées au niveau des véhicules et recondimendation de verdissement"
   ]
  },
  {
   "cell_type": "markdown",
   "id": "nasty-miracle",
   "metadata": {},
   "source": [
    "##### 4.1 Analyse des données\n",
    "\n",
    "Au regard des données présentées ci-dessous, on remarque que pour les 17 véhicules analysés, plus de 75% des véhicules ne parcourent pas plus de 50km / jour et 75% des véhicules, sur les 4 mois, ne vont pas à plus de 65km de distance. \n",
    "\n",
    "De plus, 50% des véhicules effectuent en moyenne plusieurs petits trajets de 3.6km / jour. "
   ]
  },
  {
   "cell_type": "code",
   "execution_count": 74,
   "id": "compact-volunteer",
   "metadata": {},
   "outputs": [
    {
     "data": {
      "text/plain": [
       "<AxesSubplot:xlabel='distance_sum', ylabel='kmh_trip'>"
      ]
     },
     "execution_count": 74,
     "metadata": {},
     "output_type": "execute_result"
    },
    {
     "data": {
      "image/png": "[encoded data removed]",
      "text/plain": [
       "<Figure size 432x288 with 1 Axes>"
      ]
     },
     "metadata": {
      "needs_background": "light"
     },
     "output_type": "display_data"
    }
   ],
   "source": [
    "sns.scatterplot(data=device_agg, x=\"distance_sum\", y=\"kmh_trip\", size=\"num_days\", sizes=(40, 800))"
   ]
  },
  {
   "cell_type": "code",
   "execution_count": 75,
   "id": "assured-italy",
   "metadata": {},
   "outputs": [
    {
     "data": {
      "text/plain": [
       "<AxesSubplot:xlabel='distance_sum', ylabel='max_trip'>"
      ]
     },
     "execution_count": 75,
     "metadata": {},
     "output_type": "execute_result"
    },
    {
     "data": {
      "image/png": "[encoded data removed]",
      "text/plain": [
       "<Figure size 432x288 with 1 Axes>"
      ]
     },
     "metadata": {
      "needs_background": "light"
     },
     "output_type": "display_data"
    }
   ],
   "source": [
    "sns.scatterplot(data=device_agg, x=\"distance_sum\", y=\"max_trip\", size=\"kmh_trip\", sizes=(40, 800))"
   ]
  },
  {
   "cell_type": "code",
   "execution_count": 76,
   "id": "prepared-shanghai",
   "metadata": {},
   "outputs": [
    {
     "data": {
      "text/plain": [
       "<AxesSubplot:xlabel='distance_sum'>"
      ]
     },
     "execution_count": 76,
     "metadata": {},
     "output_type": "execute_result"
    },
    {
     "data": {
      "image/png": "[encoded data removed]",
      "text/plain": [
       "<Figure size 432x288 with 1 Axes>"
      ]
     },
     "metadata": {
      "needs_background": "light"
     },
     "output_type": "display_data"
    }
   ],
   "source": [
    "sns.boxplot(x=device_agg[\"distance_sum\"])"
   ]
  },
  {
   "cell_type": "markdown",
   "id": "delayed-procedure",
   "metadata": {},
   "source": [
    "##### 4.2 Recommandation de verdissement\n",
    "\n",
    "L'article 77 de loi LOM vise à contraindre les entreprise de plus de 50 salariés et avec une flotte de plus de 100 véhicules d'acquérir 10% de voitures \"propres\" au prochain renouvellement de leur parc à partir de Janvier 2022. \n",
    "\n",
    "Cette loi ne s'applique pas à l'entreprise dont les données viennent d'être analysées. En effet, cette entreprise ne compte seulement que 30 véhicules dans sa flotte. \n",
    "\n",
    "Néanmoins, au regard des données analysées, il semblerait que les véhicules de cette entreprise n'éffectuent que de petits trajets par jour pour une distance parcourue moyenne de 30 km. \n",
    "\n",
    "Nous pourrions donc recommander à cette entreprise de favoriser un renouvellement de son parc en véhicules élétriques à condition de procéder à une analyse détaillée des possibilités de recharge sur les différents trajets empruntés par les conducteurs des véhicules (données de points GPS requises)\n",
    "\n",
    "Au regard du coût des voitures électriques, il serait également intéréssant de renouveler les voitures dont l'usage est très fréquent afin, d'une part de rentabiliser l'investissement du véhicule et, d'autres part de limiter les émissions Co2 totale. "
   ]
  },
  {
   "cell_type": "markdown",
   "id": "raised-humor",
   "metadata": {},
   "source": [
    "##### 4.3 Pour aller plus loin\n",
    "\n",
    "Cette analyse aurait pu être intéressente avec des données complémentaires comme: \n",
    "\n",
    "* les données de localisation GPS pour identifier les trajets récurrents, les trajets aller-retour et ceux effectués en ville \n",
    "* Les données liées au véhicule : marque, kilométrage, année de construction afin de recommander les véhicules à remplacer en premier "
   ]
  }
 ],
 "metadata": {
  "kernelspec": {
   "display_name": "Python 3",
   "language": "python",
   "name": "python3"
  },
  "language_info": {
   "codemirror_mode": {
    "name": "ipython",
    "version": 3
   },
   "file_extension": ".py",
   "mimetype": "text/x-python",
   "name": "python",
   "nbconvert_exporter": "python",
   "pygments_lexer": "ipython3",
   "version": "3.7.3"
  }
 },
 "nbformat": 4,
 "nbformat_minor": 5
}
